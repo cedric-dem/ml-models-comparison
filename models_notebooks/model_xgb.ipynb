{
 "cells": [
  {
   "cell_type": "markdown",
   "id": "3a8e0499-e026-4cbe-b42e-6ea763962cf6",
   "metadata": {},
   "source": [
    "# NN"
   ]
  },
  {
   "cell_type": "markdown",
   "id": "581606b1-1ecf-4188-910a-a8f1bdab1ec9",
   "metadata": {},
   "source": [
    "## Prepare execution"
   ]
  },
  {
   "cell_type": "markdown",
   "id": "7e7ba58d-6318-47fe-8f34-079236c34865",
   "metadata": {},
   "source": [
    "### Imports"
   ]
  },
  {
   "cell_type": "code",
   "execution_count": 34,
   "id": "06d827d3-d11c-4066-a6b2-1e66750ade82",
   "metadata": {},
   "outputs": [],
   "source": [
    "import pandas as pd\n",
    "import matplotlib.pyplot as plt\n",
    "\n",
    "from sklearn.metrics import accuracy_score, classification_report, ConfusionMatrixDisplay, confusion_matrix"
   ]
  },
  {
   "cell_type": "markdown",
   "id": "792ae512-589f-48f0-a469-12a65ff84512",
   "metadata": {},
   "source": [
    "### Load both datasets"
   ]
  },
  {
   "cell_type": "code",
   "execution_count": 35,
   "id": "0504c8b3-ea02-4158-b241-97ffad1da013",
   "metadata": {},
   "outputs": [],
   "source": [
    "train_df = pd.read_csv('../data/loan_data_prepared_train.csv')\n",
    "test_df = pd.read_csv('../data/loan_data_prepared_test.csv')"
   ]
  },
  {
   "cell_type": "markdown",
   "id": "aba014d2-09c6-4839-af80-ab95f80ab3b1",
   "metadata": {},
   "source": [
    "### Goal Column"
   ]
  },
  {
   "cell_type": "code",
   "execution_count": 36,
   "id": "b1ac06bf-ccb7-4980-a56d-19cfbe03be9a",
   "metadata": {},
   "outputs": [],
   "source": [
    "target_col = 'loan_status'"
   ]
  },
  {
   "cell_type": "markdown",
   "id": "75b4415d-38a7-4ee1-9ef4-f4b2e5668db4",
   "metadata": {},
   "source": [
    "### Split X and Y"
   ]
  },
  {
   "cell_type": "code",
   "execution_count": 37,
   "id": "d9b79de6-4a89-48fe-9636-8f7f906cc110",
   "metadata": {},
   "outputs": [],
   "source": [
    "X_train = train_df.drop(columns=[target_col])\n",
    "y_train = train_df[target_col]\n",
    "\n",
    "X_test = test_df.drop(columns=[target_col])\n",
    "y_test = test_df[target_col]"
   ]
  },
  {
   "cell_type": "markdown",
   "id": "61413a10-0e92-40cd-bc48-99920a12fda9",
   "metadata": {},
   "source": [
    "## Train Model"
   ]
  },
  {
   "cell_type": "markdown",
   "id": "ecf6c711-b3cf-4fce-af80-bcfa0e31bb9c",
   "metadata": {},
   "source": [
    "### Create NN Classifier"
   ]
  },
  {
   "cell_type": "code",
   "execution_count": null,
   "id": "d8d86eb5-4d60-4f12-8f81-87322134bb8a",
   "metadata": {},
   "outputs": [],
   "source": []
  },
  {
   "cell_type": "markdown",
   "id": "39644b48-8f09-4282-9868-d0fbb5e776b1",
   "metadata": {},
   "source": [
    "## Test"
   ]
  },
  {
   "cell_type": "markdown",
   "id": "d21ebb0f-27d0-41b5-9ac4-aae9e7226420",
   "metadata": {},
   "source": [
    "### Predict output"
   ]
  },
  {
   "cell_type": "code",
   "execution_count": 39,
   "id": "763e489d-701c-48c0-90f0-574550e3b861",
   "metadata": {},
   "outputs": [],
   "source": []
  },
  {
   "cell_type": "markdown",
   "id": "e53a3b9e-dd5c-483e-a084-69bf596a6182",
   "metadata": {},
   "source": [
    "### Evaluate model on test data"
   ]
  },
  {
   "cell_type": "code",
   "execution_count": 40,
   "id": "d270d71d-1544-4caa-a0b3-38156ba7d8c4",
   "metadata": {},
   "outputs": [
    {
     "name": "stdout",
     "output_type": "stream",
     "text": [
      "Accuracy: 0.894\n"
     ]
    }
   ],
   "source": [
    "print(\"Accuracy:\", round(accuracy_score(y_test, y_pred), 3))"
   ]
  },
  {
   "cell_type": "markdown",
   "id": "3f2bfd0a-125e-41d2-b03e-ca8011fdf8be",
   "metadata": {},
   "source": [
    "### Display Confusion Matrix"
   ]
  },
  {
   "cell_type": "code",
   "execution_count": 1,
   "id": "95b1a543-c858-4c1d-a198-caf79364b102",
   "metadata": {},
   "outputs": [
    {
     "ename": "SyntaxError",
     "evalue": "expected argument value expression (3513397930.py, line 2)",
     "output_type": "error",
     "traceback": [
      "  \u001b[36mCell\u001b[39m\u001b[36m \u001b[39m\u001b[32mIn[1]\u001b[39m\u001b[32m, line 2\u001b[39m\n\u001b[31m    \u001b[39m\u001b[31mdisp = ConfusionMatrixDisplay(confusion_matrix=cm, display_labels=)\u001b[39m\n                                                       ^\n\u001b[31mSyntaxError\u001b[39m\u001b[31m:\u001b[39m expected argument value expression\n"
     ]
    }
   ],
   "source": [
    "cm = confusion_matrix(y_test, y_pred)\n",
    "disp = ConfusionMatrixDisplay(confusion_matrix=cm, display_labels=)\n",
    "disp.plot(cmap='Blues')\n",
    "plt.title(\"Confusion Matrix\")\n",
    "plt.show()"
   ]
  },
  {
   "cell_type": "code",
   "execution_count": null,
   "id": "632f74bf-c287-4523-8293-a0bdffa19cab",
   "metadata": {},
   "outputs": [],
   "source": []
  }
 ],
 "metadata": {
  "kernelspec": {
   "display_name": "Python 3 (ipykernel)",
   "language": "python",
   "name": "python3"
  },
  "language_info": {
   "codemirror_mode": {
    "name": "ipython",
    "version": 3
   },
   "file_extension": ".py",
   "mimetype": "text/x-python",
   "name": "python",
   "nbconvert_exporter": "python",
   "pygments_lexer": "ipython3",
   "version": "3.12.3"
  }
 },
 "nbformat": 4,
 "nbformat_minor": 5
}
