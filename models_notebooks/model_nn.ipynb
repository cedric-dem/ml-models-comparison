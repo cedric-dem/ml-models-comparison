{
 "cells": [
  {
   "cell_type": "markdown",
   "id": "3a8e0499-e026-4cbe-b42e-6ea763962cf6",
   "metadata": {},
   "source": [
    "# NN"
   ]
  },
  {
   "cell_type": "markdown",
   "id": "581606b1-1ecf-4188-910a-a8f1bdab1ec9",
   "metadata": {},
   "source": [
    "## Prepare execution"
   ]
  },
  {
   "cell_type": "markdown",
   "id": "7e7ba58d-6318-47fe-8f34-079236c34865",
   "metadata": {},
   "source": [
    "### Imports"
   ]
  },
  {
   "cell_type": "code",
   "execution_count": 1,
   "id": "06d827d3-d11c-4066-a6b2-1e66750ade82",
   "metadata": {},
   "outputs": [
    {
     "name": "stderr",
     "output_type": "stream",
     "text": [
      "2025-07-01 17:44:55.721796: E external/local_xla/xla/stream_executor/cuda/cuda_fft.cc:467] Unable to register cuFFT factory: Attempting to register factory for plugin cuFFT when one has already been registered\n",
      "WARNING: All log messages before absl::InitializeLog() is called are written to STDERR\n",
      "E0000 00:00:1751384695.735722   12162 cuda_dnn.cc:8579] Unable to register cuDNN factory: Attempting to register factory for plugin cuDNN when one has already been registered\n",
      "E0000 00:00:1751384695.740344   12162 cuda_blas.cc:1407] Unable to register cuBLAS factory: Attempting to register factory for plugin cuBLAS when one has already been registered\n",
      "W0000 00:00:1751384695.751440   12162 computation_placer.cc:177] computation placer already registered. Please check linkage and avoid linking the same target more than once.\n",
      "W0000 00:00:1751384695.751457   12162 computation_placer.cc:177] computation placer already registered. Please check linkage and avoid linking the same target more than once.\n",
      "W0000 00:00:1751384695.751459   12162 computation_placer.cc:177] computation placer already registered. Please check linkage and avoid linking the same target more than once.\n",
      "W0000 00:00:1751384695.751460   12162 computation_placer.cc:177] computation placer already registered. Please check linkage and avoid linking the same target more than once.\n",
      "2025-07-01 17:44:55.754808: I tensorflow/core/platform/cpu_feature_guard.cc:210] This TensorFlow binary is optimized to use available CPU instructions in performance-critical operations.\n",
      "To enable the following instructions: AVX2 FMA, in other operations, rebuild TensorFlow with the appropriate compiler flags.\n"
     ]
    }
   ],
   "source": [
    "import os\n",
    "os.environ[\"CUDA_VISIBLE_DEVICES\"] = \"-1\"\n",
    "import pandas as pd\n",
    "import matplotlib.pyplot as plt\n",
    "import tensorflow as tf\n",
    "from tensorflow.keras.models import Sequential\n",
    "from tensorflow.keras.layers import Dense\n",
    "from sklearn.metrics import accuracy_score, classification_report, ConfusionMatrixDisplay, confusion_matrix"
   ]
  },
  {
   "cell_type": "markdown",
   "id": "792ae512-589f-48f0-a469-12a65ff84512",
   "metadata": {},
   "source": [
    "### Load both datasets"
   ]
  },
  {
   "cell_type": "code",
   "execution_count": 5,
   "id": "0504c8b3-ea02-4158-b241-97ffad1da013",
   "metadata": {},
   "outputs": [],
   "source": [
    "train_df = pd.read_csv('../data/loan_data_prepared_train.csv')\n",
    "test_df = pd.read_csv('../data/loan_data_prepared_test.csv')"
   ]
  },
  {
   "cell_type": "markdown",
   "id": "aba014d2-09c6-4839-af80-ab95f80ab3b1",
   "metadata": {},
   "source": [
    "### Goal Column"
   ]
  },
  {
   "cell_type": "code",
   "execution_count": 6,
   "id": "b1ac06bf-ccb7-4980-a56d-19cfbe03be9a",
   "metadata": {},
   "outputs": [],
   "source": [
    "target_col = 'loan_status'"
   ]
  },
  {
   "cell_type": "markdown",
   "id": "75b4415d-38a7-4ee1-9ef4-f4b2e5668db4",
   "metadata": {},
   "source": [
    "### Split X and Y"
   ]
  },
  {
   "cell_type": "code",
   "execution_count": 23,
   "id": "d9b79de6-4a89-48fe-9636-8f7f906cc110",
   "metadata": {},
   "outputs": [],
   "source": [
    "X_train = train_df.drop(columns=[target_col])\n",
    "y_train = train_df[target_col]\n",
    "\n",
    "X_test = test_df.drop(columns=[target_col])\n",
    "y_test = test_df[target_col]"
   ]
  },
  {
   "cell_type": "markdown",
   "id": "61413a10-0e92-40cd-bc48-99920a12fda9",
   "metadata": {},
   "source": [
    "## Train Model"
   ]
  },
  {
   "cell_type": "markdown",
   "id": "ecf6c711-b3cf-4fce-af80-bcfa0e31bb9c",
   "metadata": {},
   "source": [
    "### Create NN model"
   ]
  },
  {
   "cell_type": "code",
   "execution_count": 51,
   "id": "d8d86eb5-4d60-4f12-8f81-87322134bb8a",
   "metadata": {},
   "outputs": [
    {
     "name": "stderr",
     "output_type": "stream",
     "text": [
      "/home/ced/src/ml-models-comparison/.venv/lib/python3.12/site-packages/keras/src/layers/core/dense.py:93: UserWarning: Do not pass an `input_shape`/`input_dim` argument to a layer. When using Sequential models, prefer using an `Input(shape)` object as the first layer in the model instead.\n",
      "  super().__init__(activity_regularizer=activity_regularizer, **kwargs)\n"
     ]
    }
   ],
   "source": [
    "model = Sequential([\n",
    "    Dense(32, activation='relu', input_shape=(X_train.shape[1],)),\n",
    "    Dense(16, activation='relu'),\n",
    "    Dense(1, activation='sigmoid')  # Garder sigmoid pour la sortie (classification binaire)\n",
    "])"
   ]
  },
  {
   "cell_type": "markdown",
   "id": "2c1e76ee-7a9c-40d3-8db9-357b2c45a25e",
   "metadata": {},
   "source": [
    "### Compile model"
   ]
  },
  {
   "cell_type": "code",
   "execution_count": 52,
   "id": "b6270fe7-a915-4e9f-9b8d-6d34ed9c3912",
   "metadata": {},
   "outputs": [],
   "source": [
    "model.compile(optimizer='adam',\n",
    "              loss='binary_crossentropy',\n",
    "              metrics=['accuracy'])"
   ]
  },
  {
   "cell_type": "markdown",
   "id": "cdcf85c5-3599-40d1-aff2-b6d9814dd63e",
   "metadata": {},
   "source": [
    "### Fit model"
   ]
  },
  {
   "cell_type": "code",
   "execution_count": null,
   "id": "bf95a5be-bf18-4e4d-a24c-a1d0f3d6647a",
   "metadata": {},
   "outputs": [
    {
     "name": "stdout",
     "output_type": "stream",
     "text": [
      "Epoch 1/30\n",
      "\u001b[1m1125/1125\u001b[0m \u001b[32m━━━━━━━━━━━━━━━━━━━━\u001b[0m\u001b[37m\u001b[0m \u001b[1m1s\u001b[0m 856us/step - accuracy: 0.8514 - loss: 0.3313\n",
      "Epoch 2/30\n",
      "\u001b[1m1125/1125\u001b[0m \u001b[32m━━━━━━━━━━━━━━━━━━━━\u001b[0m\u001b[37m\u001b[0m \u001b[1m1s\u001b[0m 1ms/step - accuracy: 0.9076 - loss: 0.2057\n",
      "Epoch 3/30\n",
      "\u001b[1m1125/1125\u001b[0m \u001b[32m━━━━━━━━━━━━━━━━━━━━\u001b[0m\u001b[37m\u001b[0m \u001b[1m1s\u001b[0m 874us/step - accuracy: 0.9100 - loss: 0.1956\n",
      "Epoch 4/30\n",
      "\u001b[1m1125/1125\u001b[0m \u001b[32m━━━━━━━━━━━━━━━━━━━━\u001b[0m\u001b[37m\u001b[0m \u001b[1m1s\u001b[0m 941us/step - accuracy: 0.9113 - loss: 0.1912\n",
      "Epoch 5/30\n",
      "\u001b[1m1125/1125\u001b[0m \u001b[32m━━━━━━━━━━━━━━━━━━━━\u001b[0m\u001b[37m\u001b[0m \u001b[1m1s\u001b[0m 809us/step - accuracy: 0.9159 - loss: 0.1872\n",
      "Epoch 6/30\n",
      "\u001b[1m1125/1125\u001b[0m \u001b[32m━━━━━━━━━━━━━━━━━━━━\u001b[0m\u001b[37m\u001b[0m \u001b[1m1s\u001b[0m 977us/step - accuracy: 0.9171 - loss: 0.1847\n",
      "Epoch 7/30\n",
      "\u001b[1m1125/1125\u001b[0m \u001b[32m━━━━━━━━━━━━━━━━━━━━\u001b[0m\u001b[37m\u001b[0m \u001b[1m1s\u001b[0m 903us/step - accuracy: 0.9183 - loss: 0.1807\n",
      "Epoch 8/30\n",
      "\u001b[1m1125/1125\u001b[0m \u001b[32m━━━━━━━━━━━━━━━━━━━━\u001b[0m\u001b[37m\u001b[0m \u001b[1m1s\u001b[0m 1ms/step - accuracy: 0.9195 - loss: 0.1782\n",
      "Epoch 9/30\n",
      "\u001b[1m1125/1125\u001b[0m \u001b[32m━━━━━━━━━━━━━━━━━━━━\u001b[0m\u001b[37m\u001b[0m \u001b[1m1s\u001b[0m 899us/step - accuracy: 0.9164 - loss: 0.1801\n",
      "Epoch 10/30\n",
      "\u001b[1m1125/1125\u001b[0m \u001b[32m━━━━━━━━━━━━━━━━━━━━\u001b[0m\u001b[37m\u001b[0m \u001b[1m1s\u001b[0m 782us/step - accuracy: 0.9185 - loss: 0.1788\n",
      "Epoch 11/30\n",
      "\u001b[1m1125/1125\u001b[0m \u001b[32m━━━━━━━━━━━━━━━━━━━━\u001b[0m\u001b[37m\u001b[0m \u001b[1m1s\u001b[0m 881us/step - accuracy: 0.9166 - loss: 0.1822\n",
      "Epoch 12/30\n",
      "\u001b[1m1125/1125\u001b[0m \u001b[32m━━━━━━━━━━━━━━━━━━━━\u001b[0m\u001b[37m\u001b[0m \u001b[1m1s\u001b[0m 1ms/step - accuracy: 0.9224 - loss: 0.1743\n",
      "Epoch 13/30\n",
      "\u001b[1m1125/1125\u001b[0m \u001b[32m━━━━━━━━━━━━━━━━━━━━\u001b[0m\u001b[37m\u001b[0m \u001b[1m1s\u001b[0m 895us/step - accuracy: 0.9214 - loss: 0.1734\n",
      "Epoch 14/30\n",
      "\u001b[1m1125/1125\u001b[0m \u001b[32m━━━━━━━━━━━━━━━━━━━━\u001b[0m\u001b[37m\u001b[0m \u001b[1m1s\u001b[0m 1ms/step - accuracy: 0.9189 - loss: 0.1770  \n",
      "Epoch 15/30\n",
      "\u001b[1m1125/1125\u001b[0m \u001b[32m━━━━━━━━━━━━━━━━━━━━\u001b[0m\u001b[37m\u001b[0m \u001b[1m1s\u001b[0m 1ms/step - accuracy: 0.9205 - loss: 0.1741\n",
      "Epoch 16/30\n",
      "\u001b[1m1125/1125\u001b[0m \u001b[32m━━━━━━━━━━━━━━━━━━━━\u001b[0m\u001b[37m\u001b[0m \u001b[1m1s\u001b[0m 803us/step - accuracy: 0.9222 - loss: 0.1694\n",
      "Epoch 17/30\n",
      "\u001b[1m 908/1125\u001b[0m \u001b[32m━━━━━━━━━━━━━━━━\u001b[0m\u001b[37m━━━━\u001b[0m \u001b[1m0s\u001b[0m 776us/step - accuracy: 0.9238 - loss: 0.1713"
     ]
    }
   ],
   "source": [
    "model.fit(X_train, y_train, epochs=30, batch_size=32, verbose=1)"
   ]
  },
  {
   "cell_type": "markdown",
   "id": "39644b48-8f09-4282-9868-d0fbb5e776b1",
   "metadata": {},
   "source": [
    "## Test"
   ]
  },
  {
   "cell_type": "markdown",
   "id": "d21ebb0f-27d0-41b5-9ac4-aae9e7226420",
   "metadata": {},
   "source": [
    "### Predict output"
   ]
  },
  {
   "cell_type": "code",
   "execution_count": null,
   "id": "763e489d-701c-48c0-90f0-574550e3b861",
   "metadata": {},
   "outputs": [],
   "source": [
    "y_pred = model.predict(X_test)\n",
    "y_pred_binary = (y_pred >= 0.5).astype(int).flatten()"
   ]
  },
  {
   "cell_type": "markdown",
   "id": "e53a3b9e-dd5c-483e-a084-69bf596a6182",
   "metadata": {},
   "source": [
    "### Evaluate model on test data"
   ]
  },
  {
   "cell_type": "code",
   "execution_count": null,
   "id": "d270d71d-1544-4caa-a0b3-38156ba7d8c4",
   "metadata": {},
   "outputs": [],
   "source": [
    "print(\"Accuracy:\", round(accuracy_score(y_test, y_pred_binary), 3))"
   ]
  },
  {
   "cell_type": "markdown",
   "id": "3f2bfd0a-125e-41d2-b03e-ca8011fdf8be",
   "metadata": {},
   "source": [
    "### Display Confusion Matrix"
   ]
  },
  {
   "cell_type": "code",
   "execution_count": 44,
   "id": "95b1a543-c858-4c1d-a198-caf79364b102",
   "metadata": {},
   "outputs": [
    {
     "data": {
      "image/png": "[encoded data removed]",
      "text/plain": [
       "<Figure size 640x480 with 2 Axes>"
      ]
     },
     "metadata": {},
     "output_type": "display_data"
    }
   ],
   "source": [
    "cm = confusion_matrix(y_test, y_pred_binary)\n",
    "disp = ConfusionMatrixDisplay(confusion_matrix=cm, display_labels=[0,1])\n",
    "disp.plot(cmap='Blues')\n",
    "plt.title(\"Confusion Matrix\")\n",
    "plt.show()"
   ]
  },
  {
   "cell_type": "code",
   "execution_count": null,
   "id": "360b8257-1823-454d-86b9-5bbc902eba48",
   "metadata": {},
   "outputs": [],
   "source": []
  }
 ],
 "metadata": {
  "kernelspec": {
   "display_name": "Python 3 (ipykernel)",
   "language": "python",
   "name": "python3"
  },
  "language_info": {
   "codemirror_mode": {
    "name": "ipython",
    "version": 3
   },
   "file_extension": ".py",
   "mimetype": "text/x-python",
   "name": "python",
   "nbconvert_exporter": "python",
   "pygments_lexer": "ipython3",
   "version": "3.12.3"
  }
 },
 "nbformat": 4,
 "nbformat_minor": 5
}
